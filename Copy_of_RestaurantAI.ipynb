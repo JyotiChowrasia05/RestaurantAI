{
  "nbformat": 4,
  "nbformat_minor": 0,
  "metadata": {
    "colab": {
      "provenance": [],
      "toc_visible": true,
      "authorship_tag": "ABX9TyNqvXB1zqV49N4NdY97EEl3",
      "include_colab_link": true
    },
    "kernelspec": {
      "name": "python3",
      "display_name": "Python 3"
    },
    "language_info": {
      "name": "python"
    }
  },
  "cells": [
    {
      "cell_type": "markdown",
      "metadata": {
        "id": "view-in-github",
        "colab_type": "text"
      },
      "source": [
        "<a href=\"https://colab.research.google.com/github/JyotiChowrasia05/RestaurantAI/blob/main/Copy_of_RestaurantAI.ipynb\" target=\"_parent\"><img src=\"https://colab.research.google.com/assets/colab-badge.svg\" alt=\"Open In Colab\"/></a>"
      ]
    },
    {
      "cell_type": "code",
      "source": [
        "pip install streamlit"
      ],
      "metadata": {
        "id": "NieIz0hJpCWm"
      },
      "execution_count": null,
      "outputs": []
    },
    {
      "cell_type": "code",
      "source": [
        "pip install langchain"
      ],
      "metadata": {
        "id": "6ZzuWGoZsEnh"
      },
      "execution_count": null,
      "outputs": []
    },
    {
      "cell_type": "code",
      "source": [
        "pip install OpenAI"
      ],
      "metadata": {
        "id": "-WcawKoSsG0C"
      },
      "execution_count": null,
      "outputs": []
    },
    {
      "cell_type": "code",
      "source": [
        "pip install typing_extensions"
      ],
      "metadata": {
        "id": "hr28UCQLsINP"
      },
      "execution_count": null,
      "outputs": []
    },
    {
      "cell_type": "code",
      "execution_count": null,
      "metadata": {
        "id": "9NbgsvDniiGM"
      },
      "outputs": [],
      "source": [
        "import os\n",
        "import streamlit as st\n",
        "import langchain\n",
        "from langchain.llms import OpenAI"
      ]
    },
    {
      "cell_type": "code",
      "source": [
        "from langchain.chains import RetrievalQA\n",
        "from langchain.retrievers import AzureCognitiveSearchRetriever\n",
        "from langchain.chains import ConversationalRetrievalChain\n",
        "from langchain.prompts import PromptTemplate\n",
        "from langchain.chat_models import AzureChatOpenAI\n",
        "from langchain.schema import HumanMessage\n",
        "import json\n",
        "import os, sys\n",
        "import hashlib\n",
        "from langchain.chains import SimpleSequentialChain\n",
        "from langchain.chains import LLMChain"
      ],
      "metadata": {
        "id": "USMZm1BbAVZf"
      },
      "execution_count": null,
      "outputs": []
    },
    {
      "cell_type": "code",
      "source": [
        "os.environ[\"AZURE_OPENAI_API_KEY\"] = \"a35e69b894d64657ac8fe96a1e98a7d5\"\n",
        "os.environ[\"AZURE_OPENAI_ENDPOINT\"] = \"https://ncus-lfai-nprd-01.openai.azure.com/\"\n",
        "os.environ[\"AZURE_COGNITIVE_SEARCH_SERVICE_NAME\"] = \"lfai-ir-search-service\"\n",
        "os.environ[\"AZURE_COGNITIVE_SEARCH_INDEX_NAME\"] = \"ir-vector-index\"\n",
        "os.environ[\"AZURE_COGNITIVE_SEARCH_API_KEY\"] = \"GFhhonWdwKTTxx1hlEQ98erC4pBqErNcgbOVYcAdNWAzSeCwaydv\"\n",
        "os.environ[\"OPENAI_API_TYPE\"] = \"azure\""
      ],
      "metadata": {
        "id": "gmd7zs38zGA1"
      },
      "execution_count": null,
      "outputs": []
    },
    {
      "cell_type": "code",
      "source": [
        "retriever = AzureCognitiveSearchRetriever(content_key=\"chunk\", top_k=2, index_name = \"ir-vector-index\")"
      ],
      "metadata": {
        "id": "pp_0-Sv_1zxj"
      },
      "execution_count": null,
      "outputs": []
    },
    {
      "cell_type": "code",
      "source": [
        "llm = AzureChatOpenAI(\n",
        "          openai_api_version=\"2023-05-15\",\n",
        "          azure_deployment=\"gpt-35-turbo-16k\",\n",
        "          temperature=0\n",
        "  )"
      ],
      "metadata": {
        "id": "5TCyaqjV_ymo"
      },
      "execution_count": null,
      "outputs": []
    },
    {
      "cell_type": "code",
      "source": [
        "prompt_template_name = PromptTemplate(\n",
        "    input_variables=[\"cuisine\"],\n",
        "    template= \"I want to Open a Resaurant for {cuisine} food\"\n",
        ")\n",
        "name_chain = LLMChain(llm=llm,prompt=prompt_template_name)\n",
        "#prompt_template_name.format(cuisine=\"Italian\")\n",
        "\n",
        "prompt_template_items = PromptTemplate(\n",
        "    input_variables = ['restaurant_name'],\n",
        "    template = \"Suggest some Menu Item for {restaurant_name}\"\n",
        ")\n",
        "items_chain = LLMChain(llm=llm, prompt=prompt_template_items)\n",
        "\n",
        "allchains = SimpleSequentialChain(chains=[name_chain,items_chain])"
      ],
      "metadata": {
        "id": "MCeV9chdbWgW"
      },
      "execution_count": null,
      "outputs": []
    },
    {
      "cell_type": "code",
      "source": [
        "response = allchains.run('Indian')\n",
        "print(response)"
      ],
      "metadata": {
        "id": "Wkpl102QjVfy",
        "colab": {
          "base_uri": "https://localhost:8080/"
        },
        "outputId": "4579a8a5-9e88-4a92-94d2-e3cbe6b2c66f"
      },
      "execution_count": null,
      "outputs": [
        {
          "output_type": "stream",
          "name": "stdout",
          "text": [
            "Menu Item Suggestions:\n",
            "\n",
            "1. Appetizers:\n",
            "   - Samosas: Traditional Indian pastries filled with spiced potatoes and peas.\n",
            "   - Pakoras: Deep-fried fritters made with vegetables or chicken, coated in a chickpea flour batter.\n",
            "   - Paneer Tikka: Grilled cottage cheese marinated in a flavorful blend of spices.\n",
            "\n",
            "2. Main Courses:\n",
            "   - Butter Chicken: Tender chicken cooked in a creamy tomato-based sauce.\n",
            "   - Lamb Rogan Josh: Slow-cooked lamb in a rich and aromatic gravy.\n",
            "   - Palak Paneer: Soft cottage cheese cubes cooked in a spinach-based gravy.\n",
            "\n",
            "3. Vegetarian Options:\n",
            "   - Chana Masala: Spiced chickpeas cooked in a tangy tomato gravy.\n",
            "   - Baingan Bharta: Smoky roasted eggplant mashed and cooked with onions, tomatoes, and spices.\n",
            "   - Malai Kofta: Vegetable dumplings in a creamy cashew and tomato gravy.\n",
            "\n",
            "4. Biryani and Rice:\n",
            "   - Chicken Biryani: Fragrant basmati rice cooked with chicken, spices, and aromatic herbs.\n",
            "   - Vegetable Pulao: Basmati rice cooked with mixed vegetables and flavored with spices.\n",
            "   - Lemon Rice: Tangy and flavorful rice dish cooked with lemon juice and tempered with mustard seeds and curry leaves.\n",
            "\n",
            "5. Bread:\n",
            "   - Naan: Soft and fluffy Indian bread made with refined flour and baked in a tandoor.\n",
            "   - Garlic Naan: Naan bread topped with garlic and butter for added flavor.\n",
            "   - Roti: Whole wheat bread cooked on a griddle.\n",
            "\n",
            "6. Desserts:\n",
            "   - Gulab Jamun: Deep-fried milk dumplings soaked in a sweet syrup.\n",
            "   - Kheer: Rice pudding flavored with cardamom, saffron, and garnished with nuts.\n",
            "   - Rasmalai: Soft cottage cheese dumplings soaked in sweetened milk and flavored with saffron.\n",
            "\n",
            "7. Beverages:\n",
            "   - Mango Lassi: Refreshing yogurt-based drink blended with ripe mangoes.\n",
            "   - Masala Chai: Traditional Indian spiced tea made with milk, tea leaves, and aromatic spices.\n",
            "   - Thandai: A cooling and flavorful drink made with milk, nuts, and spices.\n",
            "\n",
            "These are just a few suggestions to get you started. You can customize your menu based on your target market's preferences and incorporate regional specialties from different parts of India.\n"
          ]
        }
      ]
    }
  ]
}