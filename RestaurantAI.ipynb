{
  "nbformat": 4,
  "nbformat_minor": 0,
  "metadata": {
    "colab": {
      "provenance": [],
      "toc_visible": true,
      "authorship_tag": "ABX9TyMcdFvhf9IgZwwIXLDSW8y/",
      "include_colab_link": true
    },
    "kernelspec": {
      "name": "python3",
      "display_name": "Python 3"
    },
    "language_info": {
      "name": "python"
    }
  },
  "cells": [
    {
      "cell_type": "markdown",
      "metadata": {
        "id": "view-in-github",
        "colab_type": "text"
      },
      "source": [
        "<a href=\"https://colab.research.google.com/github/JyotiChowrasia05/RestaurantAI/blob/main/RestaurantAI.ipynb\" target=\"_parent\"><img src=\"https://colab.research.google.com/assets/colab-badge.svg\" alt=\"Open In Colab\"/></a>"
      ]
    },
    {
      "cell_type": "code",
      "source": [
        "pip install streamlit"
      ],
      "metadata": {
        "id": "NieIz0hJpCWm"
      },
      "execution_count": null,
      "outputs": []
    },
    {
      "cell_type": "code",
      "source": [
        "pip install langchain"
      ],
      "metadata": {
        "id": "6ZzuWGoZsEnh"
      },
      "execution_count": null,
      "outputs": []
    },
    {
      "cell_type": "code",
      "source": [
        "pip install OpenAI"
      ],
      "metadata": {
        "id": "-WcawKoSsG0C"
      },
      "execution_count": null,
      "outputs": []
    },
    {
      "cell_type": "code",
      "source": [
        "pip install typing_extensions"
      ],
      "metadata": {
        "id": "hr28UCQLsINP"
      },
      "execution_count": null,
      "outputs": []
    },
    {
      "cell_type": "code",
      "execution_count": null,
      "metadata": {
        "id": "9NbgsvDniiGM"
      },
      "outputs": [],
      "source": [
        "import os\n",
        "import streamlit as st\n",
        "import langchain\n",
        "from langchain.llms import OpenAI"
      ]
    },
    {
      "cell_type": "code",
      "source": [
        "from langchain.chains import RetrievalQA\n",
        "from langchain.retrievers import AzureCognitiveSearchRetriever\n",
        "from langchain.chains import ConversationalRetrievalChain\n",
        "from langchain.prompts import PromptTemplate\n",
        "from langchain.chat_models import AzureChatOpenAI\n",
        "from langchain.schema import HumanMessage\n",
        "import json\n",
        "import os, sys\n",
        "import hashlib\n",
        "from langchain.chains import SimpleSequentialChain\n",
        "from langchain.chains import LLMChain"
      ],
      "metadata": {
        "id": "USMZm1BbAVZf"
      },
      "execution_count": null,
      "outputs": []
    },
    {
      "cell_type": "code",
      "source": [
        "os.environ[\"AZURE_OPENAI_API_KEY\"] = \"a35e69b894d64657ac8fe96a1e98a7d5\"\n",
        "os.environ[\"AZURE_OPENAI_ENDPOINT\"] = \"https://ncus-lfai-nprd-01.openai.azure.com/\"\n",
        "os.environ[\"AZURE_COGNITIVE_SEARCH_SERVICE_NAME\"] = \"lfai-ir-search-service\"\n",
        "os.environ[\"AZURE_COGNITIVE_SEARCH_INDEX_NAME\"] = \"ir-vector-index\"\n",
        "os.environ[\"AZURE_COGNITIVE_SEARCH_API_KEY\"] = \"GFhhonWdwKTTxx1hlEQ98erC4pBqErNcgbOVYcAdNWAzSeCwaydv\"\n",
        "os.environ[\"OPENAI_API_TYPE\"] = \"azure\""
      ],
      "metadata": {
        "id": "gmd7zs38zGA1"
      },
      "execution_count": null,
      "outputs": []
    },
    {
      "cell_type": "code",
      "source": [
        "retriever = AzureCognitiveSearchRetriever(content_key=\"chunk\", top_k=2, index_name = \"ir-vector-index\")"
      ],
      "metadata": {
        "id": "pp_0-Sv_1zxj"
      },
      "execution_count": null,
      "outputs": []
    },
    {
      "cell_type": "code",
      "source": [
        "llm = AzureChatOpenAI(\n",
        "          openai_api_version=\"2023-05-15\",\n",
        "          azure_deployment=\"gpt-35-turbo-16k\",\n",
        "          temperature=0\n",
        "  )"
      ],
      "metadata": {
        "id": "5TCyaqjV_ymo"
      },
      "execution_count": null,
      "outputs": []
    },
    {
      "cell_type": "code",
      "source": [
        "prompt_template_name = PromptTemplate(\n",
        "    input_variables=[\"cuisine\"],\n",
        "    template= \"I want to Open a Resaurant for {cuisine} food\"\n",
        ")\n",
        "name_chain = LLMChain(llm=llm,prompt=prompt_template_name)\n",
        "#prompt_template_name.format(cuisine=\"Italian\")\n",
        "\n",
        "prompt_template_items = PromptTemplate(\n",
        "    input_variables = ['restaurant_name'],\n",
        "    template = \"Suggest some Menu Item for {restaurant_name}\"\n",
        ")\n",
        "items_chain = LLMChain(llm=llm, prompt=prompt_template_items)\n",
        "\n",
        "allchains = SimpleSequentialChain(chains=[name_chain,items_chain])"
      ],
      "metadata": {
        "id": "MCeV9chdbWgW"
      },
      "execution_count": null,
      "outputs": []
    },
    {
      "cell_type": "code",
      "source": [
        "response = allchains.run('Indian')\n",
        "print(response)"
      ],
      "metadata": {
        "id": "Wkpl102QjVfy"
      },
      "execution_count": null,
      "outputs": []
    },
    {
      "cell_type": "code",
      "source": [
        "st.title('Restaurant Name Generator')\n",
        "cuisine = st.sidebar.selectbox('Pick a Cuisine',('Indian','Chinese','Mexican','Italian'))\n"
      ],
      "metadata": {
        "id": "ZgcKHIqW15lB",
        "outputId": "298974c4-20ca-4801-9ce0-0defc6245058",
        "colab": {
          "base_uri": "https://localhost:8080/",
          "height": 35
        }
      },
      "execution_count": 20,
      "outputs": [
        {
          "output_type": "execute_result",
          "data": {
            "text/plain": [
              "'Indian'"
            ],
            "application/vnd.google.colaboratory.intrinsic+json": {
              "type": "string"
            }
          },
          "metadata": {},
          "execution_count": 20
        }
      ]
    }
  ]
}